{
 "cells": [
  {
   "cell_type": "markdown",
   "metadata": {},
   "source": [
    "# Assigment 02\n",
    "The following commands are used to create an S3 bucket and put a file in it."
   ]
  },
  {
   "cell_type": "markdown",
   "metadata": {},
   "source": [
    "**Exercise 01**"
   ]
  },
  {
   "cell_type": "code",
   "execution_count": null,
   "metadata": {},
   "outputs": [],
   "source": [
    "!aws s3 help"
   ]
  },
  {
   "cell_type": "markdown",
   "metadata": {},
   "source": [
    "Command to make a bucket mb\n",
    "See the following link:\n",
    "https://docs.aws.amazon.com/cli/latest/reference/s3/mb.html\n",
    "Example: aws s3 mb s3://mybucket\n",
    "NOTE: All buckets names must be unique"
   ]
  },
  {
   "cell_type": "code",
   "execution_count": null,
   "metadata": {},
   "outputs": [],
   "source": [
    "!aws s3 mb help"
   ]
  },
  {
   "cell_type": "code",
   "execution_count": 2,
   "metadata": {},
   "outputs": [
    {
     "name": "stdout",
     "output_type": "stream",
     "text": [
      "make_bucket: bucket20180713\r\n"
     ]
    }
   ],
   "source": [
    "!aws s3 mb s3://bucket20180713"
   ]
  },
  {
   "cell_type": "code",
   "execution_count": 3,
   "metadata": {},
   "outputs": [
    {
     "name": "stdout",
     "output_type": "stream",
     "text": [
      "2018-07-13 14:39:16 bucket20180713\r\n"
     ]
    }
   ],
   "source": [
    "!aws s3 ls"
   ]
  },
  {
   "cell_type": "code",
   "execution_count": 4,
   "metadata": {},
   "outputs": [
    {
     "name": "stdout",
     "output_type": "stream",
     "text": [
      "2018-07-13 14:39:16 bucket20180713\r\n"
     ]
    }
   ],
   "source": [
    "!aws s3 ls | grep bucket"
   ]
  },
  {
   "cell_type": "markdown",
   "metadata": {},
   "source": [
    "** Exercise 02 **"
   ]
  },
  {
   "cell_type": "code",
   "execution_count": 5,
   "metadata": {},
   "outputs": [],
   "source": [
    "!touch Testdata.txt"
   ]
  },
  {
   "cell_type": "code",
   "execution_count": 1,
   "metadata": {},
   "outputs": [
    {
     "name": "stdout",
     "output_type": "stream",
     "text": [
      "total 32\r\n",
      "drwxr-xr-x  5 marleneprado  staff    170 Jul 13 14:59 \u001b[34m.\u001b[m\u001b[m\r\n",
      "drwxr-xr-x@ 6 marleneprado  staff    204 Jul 13 14:58 \u001b[34m..\u001b[m\u001b[m\r\n",
      "drwxr-xr-x  2 marleneprado  staff     68 Jul 13 14:59 \u001b[34m.ipynb_checkpoints\u001b[m\u001b[m\r\n",
      "-rw-r--r--  1 marleneprado  staff  15191 Jul 13 14:58 Assignment_2.ipynb\r\n",
      "-rw-r--r--  1 marleneprado  staff      0 Jul 13 14:46 Testdata.txt\r\n"
     ]
    }
   ],
   "source": [
    "!ls -al"
   ]
  },
  {
   "cell_type": "code",
   "execution_count": null,
   "metadata": {},
   "outputs": [],
   "source": [
    "!aws s3 cp help"
   ]
  },
  {
   "cell_type": "markdown",
   "metadata": {},
   "source": [
    "Now I have to upload a file into my bucket\n",
    "https://docs.aws.amazon.com/cli/latest/reference/s3/cp.html"
   ]
  },
  {
   "cell_type": "code",
   "execution_count": 2,
   "metadata": {},
   "outputs": [
    {
     "name": "stdout",
     "output_type": "stream",
     "text": [
      "upload: ./Testdata.txt to s3://bucket20180713/Testdata.txt\r\n"
     ]
    }
   ],
   "source": [
    "!aws s3 cp Testdata.txt s3://bucket20180713"
   ]
  },
  {
   "cell_type": "markdown",
   "metadata": {},
   "source": [
    "** Exercise 03 **"
   ]
  },
  {
   "cell_type": "code",
   "execution_count": null,
   "metadata": {},
   "outputs": [],
   "source": [
    "!aws s3 ls help"
   ]
  },
  {
   "cell_type": "code",
   "execution_count": 4,
   "metadata": {},
   "outputs": [
    {
     "name": "stdout",
     "output_type": "stream",
     "text": [
      "2018-07-13 15:02:46          0 Testdata.txt\r\n"
     ]
    }
   ],
   "source": [
    "!aws s3 ls s3://bucket20180713"
   ]
  },
  {
   "cell_type": "markdown",
   "metadata": {},
   "source": [
    "** Exercise 04 **"
   ]
  },
  {
   "cell_type": "code",
   "execution_count": 5,
   "metadata": {},
   "outputs": [
    {
     "name": "stdout",
     "output_type": "stream",
     "text": [
      "total 280\r\n",
      "drwxr-xr-x  8 marleneprado  staff    272 Jul 13 23:48 \u001b[34m.\u001b[m\u001b[m\r\n",
      "drwxr-xr-x@ 6 marleneprado  staff    204 Jul 13 14:58 \u001b[34m..\u001b[m\u001b[m\r\n",
      "drwxr-xr-x  4 marleneprado  staff    136 Jul 13 15:13 \u001b[34m.ipynb_checkpoints\u001b[m\u001b[m\r\n",
      "-rw-r--r--  1 marleneprado  staff  56158 Jul 13 23:48 Assignment_2.ipynb\r\n",
      "-rw-r--r--  1 marleneprado  staff  38111 Jul 13 20:07 Assignment_2b.ipynb\r\n",
      "-rw-r--r--  1 marleneprado  staff      0 Jul 13 14:46 Testdata.txt\r\n",
      "-rw-r--r--  1 marleneprado  staff      0 Jul 13 15:27 Testdata1.txt\r\n",
      "-rw-r--r--  1 marleneprado  staff  42349 Jul 13 18:35 notebook.tex\r\n"
     ]
    }
   ],
   "source": [
    "!ls -al"
   ]
  },
  {
   "cell_type": "code",
   "execution_count": 6,
   "metadata": {},
   "outputs": [],
   "source": [
    "!rm Testdata.txt"
   ]
  },
  {
   "cell_type": "code",
   "execution_count": 7,
   "metadata": {},
   "outputs": [
    {
     "name": "stdout",
     "output_type": "stream",
     "text": [
      "total 280\r\n",
      "drwxr-xr-x  7 marleneprado  staff    238 Jul 13 23:49 \u001b[34m.\u001b[m\u001b[m\r\n",
      "drwxr-xr-x@ 6 marleneprado  staff    204 Jul 13 14:58 \u001b[34m..\u001b[m\u001b[m\r\n",
      "drwxr-xr-x  4 marleneprado  staff    136 Jul 13 15:13 \u001b[34m.ipynb_checkpoints\u001b[m\u001b[m\r\n",
      "-rw-r--r--  1 marleneprado  staff  56158 Jul 13 23:48 Assignment_2.ipynb\r\n",
      "-rw-r--r--  1 marleneprado  staff  38111 Jul 13 20:07 Assignment_2b.ipynb\r\n",
      "-rw-r--r--  1 marleneprado  staff      0 Jul 13 15:27 Testdata1.txt\r\n",
      "-rw-r--r--  1 marleneprado  staff  42349 Jul 13 18:35 notebook.tex\r\n"
     ]
    }
   ],
   "source": [
    "!ls -al"
   ]
  },
  {
   "cell_type": "code",
   "execution_count": null,
   "metadata": {},
   "outputs": [],
   "source": [
    "!aws s3 sync help"
   ]
  },
  {
   "cell_type": "code",
   "execution_count": 13,
   "metadata": {},
   "outputs": [
    {
     "name": "stdout",
     "output_type": "stream",
     "text": [
      "download: s3://bucket20180713/Testdata.txt to ./Testdata.txt\r\n"
     ]
    }
   ],
   "source": [
    "!aws s3 sync s3://bucket20180713 ."
   ]
  },
  {
   "cell_type": "code",
   "execution_count": 14,
   "metadata": {},
   "outputs": [
    {
     "name": "stdout",
     "output_type": "stream",
     "text": [
      "total 336\r\n",
      "drwxr-xr-x  8 marleneprado  staff    272 Jul 13 23:57 \u001b[34m.\u001b[m\u001b[m\r\n",
      "drwxr-xr-x@ 6 marleneprado  staff    204 Jul 13 14:58 \u001b[34m..\u001b[m\u001b[m\r\n",
      "drwxr-xr-x  4 marleneprado  staff    136 Jul 13 15:13 \u001b[34m.ipynb_checkpoints\u001b[m\u001b[m\r\n",
      "-rw-r--r--  1 marleneprado  staff  85066 Jul 13 23:56 Assignment_2.ipynb\r\n",
      "-rw-r--r--  1 marleneprado  staff  38111 Jul 13 20:07 Assignment_2b.ipynb\r\n",
      "-rw-r--r--  1 marleneprado  staff      0 Jul 13 15:02 Testdata.txt\r\n",
      "-rw-r--r--  1 marleneprado  staff      0 Jul 13 15:27 Testdata1.txt\r\n",
      "-rw-r--r--  1 marleneprado  staff  42349 Jul 13 18:35 notebook.tex\r\n"
     ]
    }
   ],
   "source": [
    "!ls -al"
   ]
  },
  {
   "cell_type": "markdown",
   "metadata": {},
   "source": [
    "** Exercise 05 **"
   ]
  },
  {
   "cell_type": "code",
   "execution_count": null,
   "metadata": {},
   "outputs": [],
   "source": [
    "!aws s3 rm help"
   ]
  },
  {
   "cell_type": "code",
   "execution_count": 17,
   "metadata": {},
   "outputs": [
    {
     "name": "stdout",
     "output_type": "stream",
     "text": [
      "delete: s3://bucket20180713/Testdata.txt\r\n"
     ]
    }
   ],
   "source": [
    "!aws s3 rm s3://bucket20180713/Testdata.txt"
   ]
  },
  {
   "cell_type": "code",
   "execution_count": 18,
   "metadata": {},
   "outputs": [],
   "source": [
    "!aws s3 ls s3://bucket20180713"
   ]
  },
  {
   "cell_type": "code",
   "execution_count": 19,
   "metadata": {},
   "outputs": [
    {
     "name": "stdout",
     "output_type": "stream",
     "text": [
      "remove_bucket: bucket20180713\r\n"
     ]
    }
   ],
   "source": [
    "!aws s3 rb s3://bucket20180713"
   ]
  },
  {
   "cell_type": "code",
   "execution_count": null,
   "metadata": {},
   "outputs": [],
   "source": []
  }
 ],
 "metadata": {
  "kernelspec": {
   "display_name": "Python 3",
   "language": "python",
   "name": "python3"
  },
  "language_info": {
   "codemirror_mode": {
    "name": "ipython",
    "version": 3
   },
   "file_extension": ".py",
   "mimetype": "text/x-python",
   "name": "python",
   "nbconvert_exporter": "python",
   "pygments_lexer": "ipython3",
   "version": "3.6.5"
  }
 },
 "nbformat": 4,
 "nbformat_minor": 2
}
