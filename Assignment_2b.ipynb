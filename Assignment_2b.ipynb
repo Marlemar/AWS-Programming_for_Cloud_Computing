{
 "cells": [
  {
   "cell_type": "markdown",
   "metadata": {},
   "source": [
    "# ** Assigment 2b **\n",
    "Trying every command out with aws ** s3api **\n",
    "\n",
    "The commands to work using s3api are totally different, s3api has more developement functionalities."
   ]
  },
  {
   "cell_type": "markdown",
   "metadata": {},
   "source": [
    "** Exercise 01 **"
   ]
  },
  {
   "cell_type": "code",
   "execution_count": 56,
   "metadata": {},
   "outputs": [],
   "source": [
    "!aws s3api help"
   ]
  },
  {
   "cell_type": "code",
   "execution_count": 57,
   "metadata": {},
   "outputs": [],
   "source": [
    "!aws s3api create-bucket help"
   ]
  },
  {
   "cell_type": "code",
   "execution_count": 54,
   "metadata": {},
   "outputs": [
    {
     "name": "stdout",
     "output_type": "stream",
     "text": [
      "--------------------------------------\r\n",
      "\u001b[0m\u001b[0m|            CreateBucket            |\u001b[0m\u001b[0m\r\n",
      "\u001b[0m\u001b[0m+-----------+------------------------+\u001b[0m\u001b[0m\r\n",
      "\u001b[0m\u001b[0m|  \u001b[1m\u001b[34mLocation\u001b[0m |  \u001b[1m\u001b[34m/bucket20180713316pm\u001b[0m  |\u001b[0m\u001b[0m\r\n",
      "\u001b[0m\u001b[0m+-----------+------------------------+\u001b[0m\u001b[0m\r\n",
      "\u001b[0m\u001b[0m"
     ]
    }
   ],
   "source": [
    "!aws s3api create-bucket --bucket bucket20180713316pm --region us-east-1"
   ]
  },
  {
   "cell_type": "code",
   "execution_count": 3,
   "metadata": {},
   "outputs": [
    {
     "name": "stdout",
     "output_type": "stream",
     "text": [
      "---------------------------------------------------------------------------------------\r\n",
      "\u001b[0m\u001b[0m|                                     ListBuckets                                     |\u001b[0m\u001b[0m\r\n",
      "\u001b[0m\u001b[0m+-------------------------------------------------------------------------------------+\u001b[0m\u001b[0m\r\n",
      "\u001b[0m\u001b[2m\u001b[33m|\u001b[0m\u001b[0m|                                      Buckets                                      |\u001b[0m\u001b[2m\u001b[33m|\u001b[0m\u001b[0m\r\n",
      "\u001b[0m\u001b[2m\u001b[33m|\u001b[0m\u001b[0m+-----------------------------+-----------------------------------------------------+\u001b[0m\u001b[2m\u001b[33m|\u001b[0m\u001b[0m\r\n",
      "\u001b[0m\u001b[2m\u001b[33m|\u001b[0m\u001b[0m|  \u001b[1m\u001b[34mCreationDate\u001b[0m               |  \u001b[1m\u001b[34m2018-07-13T22:18:15.000Z\u001b[0m                           |\u001b[0m\u001b[2m\u001b[33m|\u001b[0m\u001b[0m\r\n",
      "\u001b[0m\u001b[2m\u001b[33m|\u001b[0m\u001b[0m|  \u001b[1m\u001b[34mName\u001b[0m                       |  \u001b[1m\u001b[34mbucket20180713316pm\u001b[0m                                |\u001b[0m\u001b[2m\u001b[33m|\u001b[0m\u001b[0m\r\n",
      "\u001b[0m\u001b[2m\u001b[33m|\u001b[0m\u001b[0m+-----------------------------+-----------------------------------------------------+\u001b[0m\u001b[2m\u001b[33m|\u001b[0m\u001b[0m\r\n",
      "\u001b[0m\u001b[2m\u001b[33m|\u001b[0m\u001b[0m|                                       Owner                                       |\u001b[0m\u001b[2m\u001b[33m|\u001b[0m\u001b[0m\r\n",
      "\u001b[0m\u001b[2m\u001b[33m|\u001b[0m\u001b[0m+-------------+---------------------------------------------------------------------+\u001b[0m\u001b[2m\u001b[33m|\u001b[0m\u001b[0m\r\n",
      "\u001b[0m\u001b[2m\u001b[33m|\u001b[0m\u001b[0m|  \u001b[1m\u001b[34mDisplayName\u001b[0m|  \u001b[1m\u001b[34mmtpradoc\u001b[0m                                                           |\u001b[0m\u001b[2m\u001b[33m|\u001b[0m\u001b[0m\r\n",
      "\u001b[0m\u001b[2m\u001b[33m|\u001b[0m\u001b[0m|  \u001b[1m\u001b[34mID\u001b[0m         |  \u001b[1m\u001b[34me5f97315452aca2a5aeb5e4b7225ad56b5b1ae31eddadbd02556d5658c5fae78\u001b[0m   |\u001b[0m\u001b[2m\u001b[33m|\u001b[0m\u001b[0m\r\n",
      "\u001b[0m\u001b[2m\u001b[33m|\u001b[0m\u001b[0m+-------------+---------------------------------------------------------------------+\u001b[0m\u001b[2m\u001b[33m|\u001b[0m\u001b[0m\r\n",
      "\u001b[0m\u001b[0m"
     ]
    }
   ],
   "source": [
    "!aws s3api list-buckets"
   ]
  },
  {
   "cell_type": "code",
   "execution_count": 58,
   "metadata": {},
   "outputs": [],
   "source": [
    "!aws s3api list-buckets help"
   ]
  },
  {
   "cell_type": "markdown",
   "metadata": {},
   "source": [
    "In order to filter my bucket created using s3api I need to use JMESPATH\n",
    "*JMESPATH is a quesry language for JASON.\n",
    "https://aws.amazon.com/blogs/developer/leveraging-the-s3-and-s3api-commands/"
   ]
  },
  {
   "cell_type": "code",
   "execution_count": 12,
   "metadata": {},
   "outputs": [
    {
     "name": "stdout",
     "output_type": "stream",
     "text": [
      "-------------------------\r\n",
      "\u001b[0m\u001b[0m|      ListBuckets      |\u001b[0m\u001b[0m\r\n",
      "\u001b[0m\u001b[0m+-----------------------+\u001b[0m\u001b[0m\r\n",
      "\u001b[0m\u001b[0m|  \u001b[1m\u001b[34mbucket20180713316pm\u001b[0m  |\u001b[0m\u001b[0m\r\n",
      "\u001b[0m\u001b[0m+-----------------------+\u001b[0m\u001b[0m\r\n",
      "\u001b[0m\u001b[0m"
     ]
    }
   ],
   "source": [
    "! aws s3api list-buckets --query 'Buckets[?starts_with(Name, `bucket201807133`) == `true`].Name'"
   ]
  },
  {
   "cell_type": "markdown",
   "metadata": {},
   "source": [
    "Another way to perform the same thing"
   ]
  },
  {
   "cell_type": "code",
   "execution_count": 25,
   "metadata": {
    "scrolled": true
   },
   "outputs": [
    {
     "name": "stdout",
     "output_type": "stream",
     "text": [
      "bucket20180713316pm\r\n"
     ]
    }
   ],
   "source": [
    "!aws s3api list-buckets --output text | awk '{print $3}' | grep bucket"
   ]
  },
  {
   "cell_type": "markdown",
   "metadata": {},
   "source": [
    "** Exercise 02 **"
   ]
  },
  {
   "cell_type": "code",
   "execution_count": 13,
   "metadata": {},
   "outputs": [],
   "source": [
    "!touch Testdata1.txt"
   ]
  },
  {
   "cell_type": "code",
   "execution_count": 14,
   "metadata": {},
   "outputs": [
    {
     "name": "stdout",
     "output_type": "stream",
     "text": [
      "total 200\r\n",
      "drwxr-xr-x  7 marleneprado  staff    238 Jul 13 15:27 \u001b[34m.\u001b[m\u001b[m\r\n",
      "drwxr-xr-x@ 6 marleneprado  staff    204 Jul 13 14:58 \u001b[34m..\u001b[m\u001b[m\r\n",
      "drwxr-xr-x  4 marleneprado  staff    136 Jul 13 15:13 \u001b[34m.ipynb_checkpoints\u001b[m\u001b[m\r\n",
      "-rw-r--r--  1 marleneprado  staff  47644 Jul 13 15:07 Assignment_2.ipynb\r\n",
      "-rw-r--r--  1 marleneprado  staff  50614 Jul 13 15:25 Assignment_2b.ipynb\r\n",
      "-rw-r--r--  1 marleneprado  staff      0 Jul 13 14:46 Testdata.txt\r\n",
      "-rw-r--r--  1 marleneprado  staff      0 Jul 13 15:27 Testdata1.txt\r\n"
     ]
    }
   ],
   "source": [
    "!ls -al"
   ]
  },
  {
   "cell_type": "code",
   "execution_count": 59,
   "metadata": {},
   "outputs": [],
   "source": [
    "!aws s3api put-object help"
   ]
  },
  {
   "cell_type": "markdown",
   "metadata": {},
   "source": [
    "Now I have to upload a file into my bucket"
   ]
  },
  {
   "cell_type": "code",
   "execution_count": 23,
   "metadata": {},
   "outputs": [
    {
     "name": "stdout",
     "output_type": "stream",
     "text": [
      "------------------------------------------------\r\n",
      "\u001b[0m\u001b[0m|                   PutObject                  |\u001b[0m\u001b[0m\r\n",
      "\u001b[0m\u001b[0m+------+---------------------------------------+\u001b[0m\u001b[0m\r\n",
      "\u001b[0m\u001b[0m|  \u001b[1m\u001b[34mETag\u001b[0m|  \u001b[1m\u001b[34m\"d41d8cd98f00b204e9800998ecf8427e\"\u001b[0m   |\u001b[0m\u001b[0m\r\n",
      "\u001b[0m\u001b[0m+------+---------------------------------------+\u001b[0m\u001b[0m\r\n",
      "\u001b[0m\u001b[0m"
     ]
    }
   ],
   "source": [
    "!aws s3api put-object --bucket bucket20180713316pm --key Testdata1.txt --body Testdata1.txt"
   ]
  },
  {
   "cell_type": "markdown",
   "metadata": {},
   "source": [
    "** Exercise 03 **"
   ]
  },
  {
   "cell_type": "code",
   "execution_count": 60,
   "metadata": {},
   "outputs": [],
   "source": [
    "!aws s3api list-objects help"
   ]
  },
  {
   "cell_type": "code",
   "execution_count": 29,
   "metadata": {},
   "outputs": [
    {
     "name": "stdout",
     "output_type": "stream",
     "text": [
      "-----------------------------------------------------------------------------------------\r\n",
      "\u001b[0m\u001b[0m|                                      ListObjects                                      |\u001b[0m\u001b[0m\r\n",
      "\u001b[0m\u001b[0m+---------------------------------------------------------------------------------------+\u001b[0m\u001b[0m\r\n",
      "\u001b[0m\u001b[2m\u001b[33m|\u001b[0m\u001b[0m|                                      Contents                                       |\u001b[0m\u001b[2m\u001b[33m|\u001b[0m\u001b[0m\r\n",
      "\u001b[0m\u001b[2m\u001b[33m|\u001b[0m\u001b[0m+------------------------+------------------------------------------------------------+\u001b[0m\u001b[2m\u001b[33m|\u001b[0m\u001b[0m\r\n",
      "\u001b[0m\u001b[2m\u001b[33m|\u001b[0m\u001b[0m|  \u001b[1m\u001b[34mETag\u001b[0m                  |  \u001b[1m\u001b[34m\"d41d8cd98f00b204e9800998ecf8427e\"\u001b[0m                        |\u001b[0m\u001b[2m\u001b[33m|\u001b[0m\u001b[0m\r\n",
      "\u001b[0m\u001b[2m\u001b[33m|\u001b[0m\u001b[0m|  \u001b[1m\u001b[34mKey\u001b[0m                   |  \u001b[1m\u001b[34mTestdata1.txt\u001b[0m                                             |\u001b[0m\u001b[2m\u001b[33m|\u001b[0m\u001b[0m\r\n",
      "\u001b[0m\u001b[2m\u001b[33m|\u001b[0m\u001b[0m|  \u001b[1m\u001b[34mLastModified\u001b[0m          |  \u001b[1m\u001b[34m2018-07-13T22:59:42.000Z\u001b[0m                                  |\u001b[0m\u001b[2m\u001b[33m|\u001b[0m\u001b[0m\r\n",
      "\u001b[0m\u001b[2m\u001b[33m|\u001b[0m\u001b[0m|  \u001b[1m\u001b[34mSize\u001b[0m                  |  \u001b[1m\u001b[34m0\u001b[0m                                                         |\u001b[0m\u001b[2m\u001b[33m|\u001b[0m\u001b[0m\r\n",
      "\u001b[0m\u001b[2m\u001b[33m|\u001b[0m\u001b[0m|  \u001b[1m\u001b[34mStorageClass\u001b[0m          |  \u001b[1m\u001b[34mSTANDARD\u001b[0m                                                  |\u001b[0m\u001b[2m\u001b[33m|\u001b[0m\u001b[0m\r\n",
      "\u001b[0m\u001b[2m\u001b[33m|\u001b[0m\u001b[0m+------------------------+------------------------------------------------------------+\u001b[0m\u001b[2m\u001b[33m|\u001b[0m\u001b[0m\r\n",
      "\u001b[0m\u001b[2m\u001b[33m|\u001b[0m\u001b[2m\u001b[33m|\u001b[0m\u001b[0m|                                       Owner                                       |\u001b[0m\u001b[2m\u001b[33m|\u001b[0m\u001b[2m\u001b[33m|\u001b[0m\u001b[0m\r\n",
      "\u001b[0m\u001b[2m\u001b[33m|\u001b[0m\u001b[2m\u001b[33m|\u001b[0m\u001b[0m+-------------+---------------------------------------------------------------------+\u001b[0m\u001b[2m\u001b[33m|\u001b[0m\u001b[2m\u001b[33m|\u001b[0m\u001b[0m\r\n",
      "\u001b[0m\u001b[2m\u001b[33m|\u001b[0m\u001b[2m\u001b[33m|\u001b[0m\u001b[0m|  \u001b[1m\u001b[34mDisplayName\u001b[0m|  \u001b[1m\u001b[34mmtpradoc\u001b[0m                                                           |\u001b[0m\u001b[2m\u001b[33m|\u001b[0m\u001b[2m\u001b[33m|\u001b[0m\u001b[0m\r\n",
      "\u001b[0m\u001b[2m\u001b[33m|\u001b[0m\u001b[2m\u001b[33m|\u001b[0m\u001b[0m|  \u001b[1m\u001b[34mID\u001b[0m         |  \u001b[1m\u001b[34me5f97315452aca2a5aeb5e4b7225ad56b5b1ae31eddadbd02556d5658c5fae78\u001b[0m   |\u001b[0m\u001b[2m\u001b[33m|\u001b[0m\u001b[2m\u001b[33m|\u001b[0m\u001b[0m\r\n",
      "\u001b[0m\u001b[2m\u001b[33m|\u001b[0m\u001b[2m\u001b[33m|\u001b[0m\u001b[0m+-------------+---------------------------------------------------------------------+\u001b[0m\u001b[2m\u001b[33m|\u001b[0m\u001b[2m\u001b[33m|\u001b[0m\u001b[0m\r\n",
      "\u001b[0m\u001b[0m"
     ]
    }
   ],
   "source": [
    "!aws s3api list-objects --bucket bucket20180713316pm"
   ]
  },
  {
   "cell_type": "markdown",
   "metadata": {},
   "source": [
    "** Exercise 04 **"
   ]
  },
  {
   "cell_type": "code",
   "execution_count": 30,
   "metadata": {},
   "outputs": [
    {
     "name": "stdout",
     "output_type": "stream",
     "text": [
      "total 376\r\n",
      "drwxr-xr-x  8 marleneprado  staff    272 Jul 14 01:10 \u001b[34m.\u001b[m\u001b[m/\r\n",
      "drwxr-xr-x@ 6 marleneprado  staff    204 Jul 13 14:58 \u001b[34m..\u001b[m\u001b[m/\r\n",
      "drwxr-xr-x  4 marleneprado  staff    136 Jul 13 15:13 \u001b[34m.ipynb_checkpoints\u001b[m\u001b[m/\r\n",
      "-rw-r--r--  1 marleneprado  staff  93352 Jul 14 00:03 Assignment_2.ipynb\r\n",
      "-rw-r--r--  1 marleneprado  staff  53226 Jul 14 01:10 Assignment_2b.ipynb\r\n",
      "-rw-r--r--  1 marleneprado  staff      0 Jul 13 15:02 Testdata.txt\r\n",
      "-rw-r--r--  1 marleneprado  staff      0 Jul 13 15:27 Testdata1.txt\r\n",
      "-rw-r--r--  1 marleneprado  staff  42349 Jul 13 18:35 notebook.tex\r\n"
     ]
    }
   ],
   "source": [
    "ls -al"
   ]
  },
  {
   "cell_type": "code",
   "execution_count": 31,
   "metadata": {},
   "outputs": [],
   "source": [
    "rm Testdata1.txt"
   ]
  },
  {
   "cell_type": "code",
   "execution_count": 32,
   "metadata": {},
   "outputs": [
    {
     "name": "stdout",
     "output_type": "stream",
     "text": [
      "total 384\r\n",
      "drwxr-xr-x  7 marleneprado  staff    238 Jul 14 01:12 \u001b[34m.\u001b[m\u001b[m/\r\n",
      "drwxr-xr-x@ 6 marleneprado  staff    204 Jul 13 14:58 \u001b[34m..\u001b[m\u001b[m/\r\n",
      "drwxr-xr-x  4 marleneprado  staff    136 Jul 13 15:13 \u001b[34m.ipynb_checkpoints\u001b[m\u001b[m/\r\n",
      "-rw-r--r--  1 marleneprado  staff  93352 Jul 14 00:03 Assignment_2.ipynb\r\n",
      "-rw-r--r--  1 marleneprado  staff  54188 Jul 14 01:12 Assignment_2b.ipynb\r\n",
      "-rw-r--r--  1 marleneprado  staff      0 Jul 13 15:02 Testdata.txt\r\n",
      "-rw-r--r--  1 marleneprado  staff  42349 Jul 13 18:35 notebook.tex\r\n"
     ]
    }
   ],
   "source": [
    "ls -al"
   ]
  },
  {
   "cell_type": "code",
   "execution_count": 61,
   "metadata": {},
   "outputs": [],
   "source": [
    "!aws s3api get-object help"
   ]
  },
  {
   "cell_type": "code",
   "execution_count": 41,
   "metadata": {},
   "outputs": [
    {
     "name": "stdout",
     "output_type": "stream",
     "text": [
      "-----------------------------------------------------------------------------------------\n",
      "\u001b[0m\u001b[0m|                                      ListObjects                                      |\u001b[0m\u001b[0m\n",
      "\u001b[0m\u001b[0m+---------------------------------------------------------------------------------------+\u001b[0m\u001b[0m\n",
      "\u001b[0m\u001b[2m\u001b[33m|\u001b[0m\u001b[0m|                                      Contents                                       |\u001b[0m\u001b[2m\u001b[33m|\u001b[0m\u001b[0m\n",
      "\u001b[0m\u001b[2m\u001b[33m|\u001b[0m\u001b[0m+------------------------+------------------------------------------------------------+\u001b[0m\u001b[2m\u001b[33m|\u001b[0m\u001b[0m\n",
      "\u001b[0m\u001b[2m\u001b[33m|\u001b[0m\u001b[0m|  \u001b[1m\u001b[34mETag\u001b[0m                  |  \u001b[1m\u001b[34m\"d41d8cd98f00b204e9800998ecf8427e\"\u001b[0m                        |\u001b[0m\u001b[2m\u001b[33m|\u001b[0m\u001b[0m\n",
      "\u001b[0m\u001b[2m\u001b[33m|\u001b[0m\u001b[0m|  \u001b[1m\u001b[34mKey\u001b[0m                   |  \u001b[1m\u001b[34mTestdata1.txt\u001b[0m                                             |\u001b[0m\u001b[2m\u001b[33m|\u001b[0m\u001b[0m\n",
      "\u001b[0m\u001b[2m\u001b[33m|\u001b[0m\u001b[0m|  \u001b[1m\u001b[34mLastModified\u001b[0m          |  \u001b[1m\u001b[34m2018-07-13T22:59:42.000Z\u001b[0m                                  |\u001b[0m\u001b[2m\u001b[33m|\u001b[0m\u001b[0m\n",
      "\u001b[0m\u001b[2m\u001b[33m|\u001b[0m\u001b[0m|  \u001b[1m\u001b[34mSize\u001b[0m                  |  \u001b[1m\u001b[34m0\u001b[0m                                                         |\u001b[0m\u001b[2m\u001b[33m|\u001b[0m\u001b[0m\n",
      "\u001b[0m\u001b[2m\u001b[33m|\u001b[0m\u001b[0m|  \u001b[1m\u001b[34mStorageClass\u001b[0m          |  \u001b[1m\u001b[34mSTANDARD\u001b[0m                                                  |\u001b[0m\u001b[2m\u001b[33m|\u001b[0m\u001b[0m\n",
      "\u001b[0m\u001b[2m\u001b[33m|\u001b[0m\u001b[0m+------------------------+------------------------------------------------------------+\u001b[0m\u001b[2m\u001b[33m|\u001b[0m\u001b[0m\n",
      "\u001b[0m\u001b[2m\u001b[33m|\u001b[0m\u001b[2m\u001b[33m|\u001b[0m\u001b[0m|                                       Owner                                       |\u001b[0m\u001b[2m\u001b[33m|\u001b[0m\u001b[2m\u001b[33m|\u001b[0m\u001b[0m\n",
      "\u001b[0m\u001b[2m\u001b[33m|\u001b[0m\u001b[2m\u001b[33m|\u001b[0m\u001b[0m+-------------+---------------------------------------------------------------------+\u001b[0m\u001b[2m\u001b[33m|\u001b[0m\u001b[2m\u001b[33m|\u001b[0m\u001b[0m\n",
      "\u001b[0m\u001b[2m\u001b[33m|\u001b[0m\u001b[2m\u001b[33m|\u001b[0m\u001b[0m|  \u001b[1m\u001b[34mDisplayName\u001b[0m|  \u001b[1m\u001b[34mmtpradoc\u001b[0m                                                           |\u001b[0m\u001b[2m\u001b[33m|\u001b[0m\u001b[2m\u001b[33m|\u001b[0m\u001b[0m\n",
      "\u001b[0m\u001b[2m\u001b[33m|\u001b[0m\u001b[2m\u001b[33m|\u001b[0m\u001b[0m|  \u001b[1m\u001b[34mID\u001b[0m         |  \u001b[1m\u001b[34me5f97315452aca2a5aeb5e4b7225ad56b5b1ae31eddadbd02556d5658c5fae78\u001b[0m   |\u001b[0m\u001b[2m\u001b[33m|\u001b[0m\u001b[2m\u001b[33m|\u001b[0m\u001b[0m\n",
      "\u001b[0m\u001b[2m\u001b[33m|\u001b[0m\u001b[2m\u001b[33m|\u001b[0m\u001b[0m+-------------+---------------------------------------------------------------------+\u001b[0m\u001b[2m\u001b[33m|\u001b[0m\u001b[2m\u001b[33m|\u001b[0m\u001b[0m\n",
      "\u001b[0m\u001b[0m"
     ]
    }
   ],
   "source": [
    "!aws s3api list-objects --bucket bucket20180713316pm"
   ]
  },
  {
   "cell_type": "code",
   "execution_count": 44,
   "metadata": {},
   "outputs": [
    {
     "name": "stdout",
     "output_type": "stream",
     "text": [
      "---------------------------------------------------------\r\n",
      "\u001b[0m\u001b[0m|                       GetObject                       |\u001b[0m\u001b[0m\r\n",
      "\u001b[0m\u001b[0m+----------------+--------------------------------------+\u001b[0m\u001b[0m\r\n",
      "\u001b[0m\u001b[0m|  \u001b[1m\u001b[34mAcceptRanges\u001b[0m  |  \u001b[1m\u001b[34mbytes\u001b[0m                               |\u001b[0m\u001b[0m\r\n",
      "\u001b[0m\u001b[0m|  \u001b[1m\u001b[34mContentLength\u001b[0m |  \u001b[1m\u001b[34m0\u001b[0m                                   |\u001b[0m\u001b[0m\r\n",
      "\u001b[0m\u001b[0m|  \u001b[1m\u001b[34mContentType\u001b[0m   |  \u001b[1m\u001b[34mbinary/octet-stream\u001b[0m                 |\u001b[0m\u001b[0m\r\n",
      "\u001b[0m\u001b[0m|  \u001b[1m\u001b[34mETag\u001b[0m          |  \u001b[1m\u001b[34m\"d41d8cd98f00b204e9800998ecf8427e\"\u001b[0m  |\u001b[0m\u001b[0m\r\n",
      "\u001b[0m\u001b[0m|  \u001b[1m\u001b[34mLastModified\u001b[0m  |  \u001b[1m\u001b[34mFri, 13 Jul 2018 22:59:42 GMT\u001b[0m       |\u001b[0m\u001b[0m\r\n",
      "\u001b[0m\u001b[0m+----------------+--------------------------------------+\u001b[0m\u001b[0m\r\n",
      "\u001b[0m\u001b[0m"
     ]
    }
   ],
   "source": [
    "!aws s3api get-object --bucket bucket20180713316pm --key Testdata1.txt Testdata1.txt"
   ]
  },
  {
   "cell_type": "code",
   "execution_count": 45,
   "metadata": {},
   "outputs": [
    {
     "name": "stdout",
     "output_type": "stream",
     "text": [
      "total 416\r\n",
      "drwxr-xr-x  8 marleneprado  staff    272 Jul 14 01:25 \u001b[34m.\u001b[m\u001b[m\r\n",
      "drwxr-xr-x@ 6 marleneprado  staff    204 Jul 13 14:58 \u001b[34m..\u001b[m\u001b[m\r\n",
      "drwxr-xr-x  4 marleneprado  staff    136 Jul 13 15:13 \u001b[34m.ipynb_checkpoints\u001b[m\u001b[m\r\n",
      "-rw-r--r--  1 marleneprado  staff  93352 Jul 14 00:03 Assignment_2.ipynb\r\n",
      "-rw-r--r--  1 marleneprado  staff  70832 Jul 14 01:24 Assignment_2b.ipynb\r\n",
      "-rw-r--r--  1 marleneprado  staff      0 Jul 13 15:02 Testdata.txt\r\n",
      "-rw-r--r--  1 marleneprado  staff      0 Jul 14 01:25 Testdata1.txt\r\n",
      "-rw-r--r--  1 marleneprado  staff  42349 Jul 13 18:35 notebook.tex\r\n"
     ]
    }
   ],
   "source": [
    "!ls -al"
   ]
  },
  {
   "cell_type": "markdown",
   "metadata": {},
   "source": [
    "** Exercise 05 **"
   ]
  },
  {
   "cell_type": "code",
   "execution_count": 62,
   "metadata": {},
   "outputs": [],
   "source": [
    "!aws s3api delete-object help"
   ]
  },
  {
   "cell_type": "code",
   "execution_count": 50,
   "metadata": {},
   "outputs": [
    {
     "name": "stdout",
     "output_type": "stream",
     "text": [
      "\u001b[0m"
     ]
    }
   ],
   "source": [
    "!aws s3api delete-object --bucket bucket20180713316pm --key Testdata1.txt"
   ]
  },
  {
   "cell_type": "code",
   "execution_count": 51,
   "metadata": {},
   "outputs": [
    {
     "name": "stdout",
     "output_type": "stream",
     "text": [
      "\u001b[0m"
     ]
    }
   ],
   "source": [
    "!aws s3api list-objects --bucket bucket20180713316pm"
   ]
  },
  {
   "cell_type": "code",
   "execution_count": 63,
   "metadata": {},
   "outputs": [],
   "source": [
    "!aws s3api delete-bucket help"
   ]
  },
  {
   "cell_type": "code",
   "execution_count": 55,
   "metadata": {},
   "outputs": [
    {
     "name": "stdout",
     "output_type": "stream",
     "text": [
      "{\r\n",
      "    \"Bucket\": \"\"\r\n",
      "}\r\n"
     ]
    }
   ],
   "source": [
    "!aws s3api delete-bucket --bucket bucket20180713316pm --generate-cli-skeleton"
   ]
  },
  {
   "cell_type": "code",
   "execution_count": null,
   "metadata": {},
   "outputs": [],
   "source": []
  }
 ],
 "metadata": {
  "kernelspec": {
   "display_name": "Python 3",
   "language": "python",
   "name": "python3"
  },
  "language_info": {
   "codemirror_mode": {
    "name": "ipython",
    "version": 3
   },
   "file_extension": ".py",
   "mimetype": "text/x-python",
   "name": "python",
   "nbconvert_exporter": "python",
   "pygments_lexer": "ipython3",
   "version": "3.6.5"
  }
 },
 "nbformat": 4,
 "nbformat_minor": 2
}
